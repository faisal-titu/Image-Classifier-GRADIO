{
  "cells": [
    {
      "cell_type": "markdown",
      "metadata": {
        "id": "lNvJIIaA1fM2"
      },
      "source": [
        "### **InceptionNET**"
      ]
    },
    {
      "cell_type": "code",
      "execution_count": 6,
      "metadata": {},
      "outputs": [
        {
          "name": "stdout",
          "output_type": "stream",
          "text": [
            "Found existing installation: gradio 3.50.0\n",
            "Uninstalling gradio-3.50.0:\n",
            "  Would remove:\n",
            "    /home/faisal/anaconda3/envs/my_env/bin/gradio\n",
            "    /home/faisal/anaconda3/envs/my_env/bin/upload_theme\n",
            "    /home/faisal/anaconda3/envs/my_env/lib/python3.10/site-packages/gradio-3.50.0.dist-info/*\n",
            "    /home/faisal/anaconda3/envs/my_env/lib/python3.10/site-packages/gradio/*\n",
            "  Would not remove (might be manually added):\n",
            "    /home/faisal/anaconda3/envs/my_env/lib/python3.10/site-packages/gradio/launches.json\n",
            "Proceed (Y/n)? ^C\n",
            "\u001b[31mERROR: Operation cancelled by user\u001b[0m\u001b[31m\n",
            "\u001b[0m"
          ]
        }
      ],
      "source": [
        "!pip uninstall gradioy\n",
        "y"
      ]
    },
    {
      "cell_type": "code",
      "execution_count": 4,
      "metadata": {},
      "outputs": [
        {
          "name": "stdout",
          "output_type": "stream",
          "text": [
            "Collecting gradio==3.50\n",
            "  Using cached gradio-3.50.0-py3-none-any.whl.metadata (17 kB)\n",
            "Requirement already satisfied: aiofiles<24.0,>=22.0 in /home/faisal/anaconda3/envs/my_env/lib/python3.10/site-packages (from gradio==3.50) (23.2.1)\n",
            "Requirement already satisfied: altair<6.0,>=4.2.0 in /home/faisal/anaconda3/envs/my_env/lib/python3.10/site-packages (from gradio==3.50) (5.2.0)\n",
            "Requirement already satisfied: fastapi in /home/faisal/anaconda3/envs/my_env/lib/python3.10/site-packages (from gradio==3.50) (0.110.0)\n",
            "Requirement already satisfied: ffmpy in /home/faisal/anaconda3/envs/my_env/lib/python3.10/site-packages (from gradio==3.50) (0.3.2)\n",
            "Collecting gradio-client==0.6.1 (from gradio==3.50)\n",
            "  Using cached gradio_client-0.6.1-py3-none-any.whl.metadata (7.1 kB)\n",
            "Requirement already satisfied: httpx in /home/faisal/.local/lib/python3.10/site-packages (from gradio==3.50) (0.27.0)\n",
            "Requirement already satisfied: huggingface-hub>=0.14.0 in /home/faisal/anaconda3/envs/my_env/lib/python3.10/site-packages (from gradio==3.50) (0.21.3)\n",
            "Requirement already satisfied: importlib-resources<7.0,>=1.3 in /home/faisal/anaconda3/envs/my_env/lib/python3.10/site-packages (from gradio==3.50) (6.1.2)\n",
            "Requirement already satisfied: jinja2<4.0 in /home/faisal/.local/lib/python3.10/site-packages (from gradio==3.50) (3.1.3)\n",
            "Requirement already satisfied: markupsafe~=2.0 in /home/faisal/anaconda3/envs/my_env/lib/python3.10/site-packages (from gradio==3.50) (2.1.5)\n",
            "Requirement already satisfied: matplotlib~=3.0 in /home/faisal/anaconda3/envs/my_env/lib/python3.10/site-packages (from gradio==3.50) (3.8.3)\n",
            "Requirement already satisfied: numpy~=1.0 in /home/faisal/anaconda3/envs/my_env/lib/python3.10/site-packages (from gradio==3.50) (1.26.4)\n",
            "Requirement already satisfied: orjson~=3.0 in /home/faisal/anaconda3/envs/my_env/lib/python3.10/site-packages (from gradio==3.50) (3.9.15)\n",
            "Requirement already satisfied: packaging in /home/faisal/anaconda3/envs/my_env/lib/python3.10/site-packages (from gradio==3.50) (23.2)\n",
            "Requirement already satisfied: pandas<3.0,>=1.0 in /home/faisal/anaconda3/envs/my_env/lib/python3.10/site-packages (from gradio==3.50) (2.2.1)\n",
            "Requirement already satisfied: pillow<11.0,>=8.0 in /home/faisal/anaconda3/envs/my_env/lib/python3.10/site-packages (from gradio==3.50) (10.2.0)\n",
            "Requirement already satisfied: pydantic!=1.8,!=1.8.1,!=2.0.0,!=2.0.1,<3.0.0,>=1.7.4 in /home/faisal/anaconda3/envs/my_env/lib/python3.10/site-packages (from gradio==3.50) (2.6.3)\n",
            "Requirement already satisfied: pydub in /home/faisal/anaconda3/envs/my_env/lib/python3.10/site-packages (from gradio==3.50) (0.25.1)\n",
            "Requirement already satisfied: python-multipart in /home/faisal/anaconda3/envs/my_env/lib/python3.10/site-packages (from gradio==3.50) (0.0.9)\n",
            "Requirement already satisfied: pyyaml<7.0,>=5.0 in /home/faisal/anaconda3/envs/my_env/lib/python3.10/site-packages (from gradio==3.50) (6.0.1)\n",
            "Requirement already satisfied: requests~=2.0 in /home/faisal/.local/lib/python3.10/site-packages (from gradio==3.50) (2.31.0)\n",
            "Requirement already satisfied: semantic-version~=2.0 in /home/faisal/anaconda3/envs/my_env/lib/python3.10/site-packages (from gradio==3.50) (2.10.0)\n",
            "Requirement already satisfied: typing-extensions~=4.0 in /home/faisal/.local/lib/python3.10/site-packages (from gradio==3.50) (4.9.0)\n",
            "Requirement already satisfied: uvicorn>=0.14.0 in /home/faisal/anaconda3/envs/my_env/lib/python3.10/site-packages (from gradio==3.50) (0.27.1)\n",
            "Requirement already satisfied: websockets<12.0,>=10.0 in /home/faisal/anaconda3/envs/my_env/lib/python3.10/site-packages (from gradio==3.50) (11.0.3)\n",
            "Requirement already satisfied: fsspec in /home/faisal/.local/lib/python3.10/site-packages (from gradio-client==0.6.1->gradio==3.50) (2024.2.0)\n",
            "Requirement already satisfied: jsonschema>=3.0 in /home/faisal/.local/lib/python3.10/site-packages (from altair<6.0,>=4.2.0->gradio==3.50) (4.21.1)\n",
            "Requirement already satisfied: toolz in /home/faisal/anaconda3/envs/my_env/lib/python3.10/site-packages (from altair<6.0,>=4.2.0->gradio==3.50) (0.12.1)\n",
            "Requirement already satisfied: filelock in /home/faisal/.local/lib/python3.10/site-packages (from huggingface-hub>=0.14.0->gradio==3.50) (3.13.1)\n",
            "Requirement already satisfied: tqdm>=4.42.1 in /home/faisal/.local/lib/python3.10/site-packages (from huggingface-hub>=0.14.0->gradio==3.50) (4.66.2)\n",
            "Requirement already satisfied: contourpy>=1.0.1 in /home/faisal/anaconda3/envs/my_env/lib/python3.10/site-packages (from matplotlib~=3.0->gradio==3.50) (1.2.0)\n",
            "Requirement already satisfied: cycler>=0.10 in /home/faisal/anaconda3/envs/my_env/lib/python3.10/site-packages (from matplotlib~=3.0->gradio==3.50) (0.12.1)\n",
            "Requirement already satisfied: fonttools>=4.22.0 in /home/faisal/anaconda3/envs/my_env/lib/python3.10/site-packages (from matplotlib~=3.0->gradio==3.50) (4.49.0)\n",
            "Requirement already satisfied: kiwisolver>=1.3.1 in /home/faisal/anaconda3/envs/my_env/lib/python3.10/site-packages (from matplotlib~=3.0->gradio==3.50) (1.4.5)\n",
            "Requirement already satisfied: pyparsing>=2.3.1 in /home/faisal/anaconda3/envs/my_env/lib/python3.10/site-packages (from matplotlib~=3.0->gradio==3.50) (3.1.1)\n",
            "Requirement already satisfied: python-dateutil>=2.7 in /home/faisal/.local/lib/python3.10/site-packages (from matplotlib~=3.0->gradio==3.50) (2.8.2)\n",
            "Requirement already satisfied: pytz>=2020.1 in /home/faisal/anaconda3/envs/my_env/lib/python3.10/site-packages (from pandas<3.0,>=1.0->gradio==3.50) (2024.1)\n",
            "Requirement already satisfied: tzdata>=2022.7 in /home/faisal/anaconda3/envs/my_env/lib/python3.10/site-packages (from pandas<3.0,>=1.0->gradio==3.50) (2024.1)\n",
            "Requirement already satisfied: annotated-types>=0.4.0 in /home/faisal/anaconda3/envs/my_env/lib/python3.10/site-packages (from pydantic!=1.8,!=1.8.1,!=2.0.0,!=2.0.1,<3.0.0,>=1.7.4->gradio==3.50) (0.6.0)\n",
            "Requirement already satisfied: pydantic-core==2.16.3 in /home/faisal/anaconda3/envs/my_env/lib/python3.10/site-packages (from pydantic!=1.8,!=1.8.1,!=2.0.0,!=2.0.1,<3.0.0,>=1.7.4->gradio==3.50) (2.16.3)\n",
            "Requirement already satisfied: charset-normalizer<4,>=2 in /home/faisal/.local/lib/python3.10/site-packages (from requests~=2.0->gradio==3.50) (3.3.2)\n",
            "Requirement already satisfied: idna<4,>=2.5 in /home/faisal/anaconda3/envs/my_env/lib/python3.10/site-packages (from requests~=2.0->gradio==3.50) (3.6)\n",
            "Requirement already satisfied: urllib3<3,>=1.21.1 in /home/faisal/anaconda3/envs/my_env/lib/python3.10/site-packages (from requests~=2.0->gradio==3.50) (2.2.1)\n",
            "Requirement already satisfied: certifi>=2017.4.17 in /home/faisal/anaconda3/envs/my_env/lib/python3.10/site-packages (from requests~=2.0->gradio==3.50) (2024.2.2)\n",
            "Requirement already satisfied: click>=7.0 in /home/faisal/anaconda3/envs/my_env/lib/python3.10/site-packages (from uvicorn>=0.14.0->gradio==3.50) (8.1.7)\n",
            "Requirement already satisfied: h11>=0.8 in /home/faisal/.local/lib/python3.10/site-packages (from uvicorn>=0.14.0->gradio==3.50) (0.14.0)\n",
            "Requirement already satisfied: starlette<0.37.0,>=0.36.3 in /home/faisal/anaconda3/envs/my_env/lib/python3.10/site-packages (from fastapi->gradio==3.50) (0.36.3)\n",
            "Requirement already satisfied: anyio in /home/faisal/.local/lib/python3.10/site-packages (from httpx->gradio==3.50) (4.3.0)\n",
            "Requirement already satisfied: httpcore==1.* in /home/faisal/.local/lib/python3.10/site-packages (from httpx->gradio==3.50) (1.0.4)\n",
            "Requirement already satisfied: sniffio in /home/faisal/.local/lib/python3.10/site-packages (from httpx->gradio==3.50) (1.3.0)\n",
            "Requirement already satisfied: attrs>=22.2.0 in /home/faisal/.local/lib/python3.10/site-packages (from jsonschema>=3.0->altair<6.0,>=4.2.0->gradio==3.50) (23.2.0)\n",
            "Requirement already satisfied: jsonschema-specifications>=2023.03.6 in /home/faisal/.local/lib/python3.10/site-packages (from jsonschema>=3.0->altair<6.0,>=4.2.0->gradio==3.50) (2023.12.1)\n",
            "Requirement already satisfied: referencing>=0.28.4 in /home/faisal/.local/lib/python3.10/site-packages (from jsonschema>=3.0->altair<6.0,>=4.2.0->gradio==3.50) (0.33.0)\n",
            "Requirement already satisfied: rpds-py>=0.7.1 in /home/faisal/.local/lib/python3.10/site-packages (from jsonschema>=3.0->altair<6.0,>=4.2.0->gradio==3.50) (0.18.0)\n",
            "Requirement already satisfied: six>=1.5 in /home/faisal/anaconda3/envs/my_env/lib/python3.10/site-packages (from python-dateutil>=2.7->matplotlib~=3.0->gradio==3.50) (1.16.0)\n",
            "Requirement already satisfied: exceptiongroup>=1.0.2 in /home/faisal/.local/lib/python3.10/site-packages (from anyio->httpx->gradio==3.50) (1.1.3)\n",
            "Using cached gradio-3.50.0-py3-none-any.whl (20.3 MB)\n",
            "Using cached gradio_client-0.6.1-py3-none-any.whl (299 kB)\n",
            "Installing collected packages: gradio-client, gradio\n",
            "  Attempting uninstall: gradio-client\n",
            "    Found existing installation: gradio_client 0.16.1\n",
            "    Uninstalling gradio_client-0.16.1:\n",
            "      Successfully uninstalled gradio_client-0.16.1\n",
            "  Attempting uninstall: gradio\n",
            "    Found existing installation: gradio 4.29.0\n",
            "    Uninstalling gradio-4.29.0:\n",
            "      Successfully uninstalled gradio-4.29.0\n",
            "Successfully installed gradio-3.50.0 gradio-client-0.6.1\n"
          ]
        }
      ],
      "source": [
        "!pip install gradio==3.50\n"
      ]
    },
    {
      "cell_type": "code",
      "execution_count": 1,
      "metadata": {
        "colab": {
          "base_uri": "https://localhost:8080/",
          "height": 655
        },
        "id": "83O_YvGCvOdm",
        "outputId": "6cbf8725-a2a5-4ee0-c634-be96f829a3f0"
      },
      "outputs": [
        {
          "name": "stderr",
          "output_type": "stream",
          "text": [
            "2024-06-09 23:05:57.066584: I external/local_tsl/tsl/cuda/cudart_stub.cc:32] Could not find cuda drivers on your machine, GPU will not be used.\n",
            "2024-06-09 23:05:57.091914: I external/local_tsl/tsl/cuda/cudart_stub.cc:32] Could not find cuda drivers on your machine, GPU will not be used.\n",
            "2024-06-09 23:05:57.412134: I tensorflow/core/platform/cpu_feature_guard.cc:210] This TensorFlow binary is optimized to use available CPU instructions in performance-critical operations.\n",
            "To enable the following instructions: AVX2 FMA, in other operations, rebuild TensorFlow with the appropriate compiler flags.\n",
            "2024-06-09 23:06:03.259277: W tensorflow/compiler/tf2tensorrt/utils/py_utils.cc:38] TF-TRT Warning: Could not find TensorRT\n",
            "2024-06-09 23:06:06.920745: I external/local_xla/xla/stream_executor/cuda/cuda_executor.cc:998] successful NUMA node read from SysFS had negative value (-1), but there must be at least one NUMA node, so returning NUMA node zero. See more at https://github.com/torvalds/linux/blob/v6.0/Documentation/ABI/testing/sysfs-bus-pci#L344-L355\n",
            "2024-06-09 23:06:06.933612: W tensorflow/core/common_runtime/gpu/gpu_device.cc:2251] Cannot dlopen some GPU libraries. Please make sure the missing libraries mentioned above are installed properly if you would like to use GPU. Follow the guide at https://www.tensorflow.org/install/gpu for how to download and setup the required libraries for your platform.\n",
            "Skipping registering GPU devices...\n",
            "/tmp/ipykernel_527022/1960831637.py:18: GradioDeprecationWarning: Usage of gradio.inputs is deprecated, and will not be supported in the future, please import your component from gradio.components\n",
            "  image = gr.inputs.Image(shape=(299, 299))\n",
            "/tmp/ipykernel_527022/1960831637.py:18: GradioDeprecationWarning: `optional` parameter is deprecated, and it has no effect\n",
            "  image = gr.inputs.Image(shape=(299, 299))\n",
            "/tmp/ipykernel_527022/1960831637.py:19: GradioDeprecationWarning: Usage of gradio.outputs is deprecated, and will not be supported in the future, please import your components from gradio.components\n",
            "  label = gr.outputs.Label(num_top_classes=3)\n",
            "/tmp/ipykernel_527022/1960831637.py:19: GradioUnusedKwargWarning: You have unused kwarg parameters in Label, please remove them: {'type': 'auto'}\n",
            "  label = gr.outputs.Label(num_top_classes=3)\n",
            "/tmp/ipykernel_527022/1960831637.py:21: GradioDeprecationWarning: `capture_session` parameter is deprecated, and it has no effect\n",
            "  gr.Interface(fn=classify_image, inputs=image, outputs=label, capture_session=True).launch()\n"
          ]
        },
        {
          "name": "stdout",
          "output_type": "stream",
          "text": [
            "Running on local URL:  http://127.0.0.1:7860\n",
            "IMPORTANT: You are using gradio version 3.50.0, however version 4.29.0 is available, please upgrade.\n",
            "--------\n",
            "\n",
            "To create a public link, set `share=True` in `launch()`.\n"
          ]
        },
        {
          "data": {
            "text/html": [
              "<div><iframe src=\"http://127.0.0.1:7860/\" width=\"100%\" height=\"500\" allow=\"autoplay; camera; microphone; clipboard-read; clipboard-write;\" frameborder=\"0\" allowfullscreen></iframe></div>"
            ],
            "text/plain": [
              "<IPython.core.display.HTML object>"
            ]
          },
          "metadata": {},
          "output_type": "display_data"
        },
        {
          "data": {
            "text/plain": []
          },
          "execution_count": 1,
          "metadata": {},
          "output_type": "execute_result"
        },
        {
          "name": "stderr",
          "output_type": "stream",
          "text": [
            "Traceback (most recent call last):\n",
            "  File \"/home/faisal/anaconda3/envs/my_env/lib/python3.10/site-packages/gradio/routes.py\", line 534, in predict\n",
            "    output = await route_utils.call_process_api(\n",
            "  File \"/home/faisal/anaconda3/envs/my_env/lib/python3.10/site-packages/gradio/route_utils.py\", line 226, in call_process_api\n",
            "    output = await app.get_blocks().process_api(\n",
            "  File \"/home/faisal/anaconda3/envs/my_env/lib/python3.10/site-packages/gradio/blocks.py\", line 1550, in process_api\n",
            "    result = await self.call_function(\n",
            "  File \"/home/faisal/anaconda3/envs/my_env/lib/python3.10/site-packages/gradio/blocks.py\", line 1185, in call_function\n",
            "    prediction = await anyio.to_thread.run_sync(\n",
            "  File \"/home/faisal/.local/lib/python3.10/site-packages/anyio/to_thread.py\", line 56, in run_sync\n",
            "    return await get_async_backend().run_sync_in_worker_thread(\n",
            "  File \"/home/faisal/.local/lib/python3.10/site-packages/anyio/_backends/_asyncio.py\", line 2144, in run_sync_in_worker_thread\n",
            "    return await future\n",
            "  File \"/home/faisal/.local/lib/python3.10/site-packages/anyio/_backends/_asyncio.py\", line 851, in run\n",
            "    result = context.run(func, *args)\n",
            "  File \"/home/faisal/anaconda3/envs/my_env/lib/python3.10/site-packages/gradio/utils.py\", line 661, in wrapper\n",
            "    response = f(*args, **kwargs)\n",
            "  File \"/tmp/ipykernel_527022/1960831637.py\", line 13, in classify_image\n",
            "    inp = inp.reshape((-1, 299, 299, 3))\n",
            "AttributeError: 'NoneType' object has no attribute 'reshape'\n"
          ]
        },
        {
          "name": "stdout",
          "output_type": "stream",
          "text": [
            "\u001b[1m1/1\u001b[0m \u001b[32m━━━━━━━━━━━━━━━━━━━━\u001b[0m\u001b[37m\u001b[0m \u001b[1m8s\u001b[0m 8s/step\n"
          ]
        }
      ],
      "source": [
        "import gradio as gr\n",
        "import tensorflow as tf\n",
        "import numpy as np\n",
        "import requests\n",
        "\n",
        "inception_net = tf.keras.applications.InceptionV3() # load the model\n",
        "\n",
        "# Download human-readable labels for ImageNet.\n",
        "response = requests.get(\"https://git.io/JJkYN\")\n",
        "labels = response.text.split(\"\\n\")\n",
        "\n",
        "def classify_image(inp):\n",
        "  inp = inp.reshape((-1, 299, 299, 3))\n",
        "  inp = tf.keras.applications.inception_v3.preprocess_input(inp)\n",
        "  prediction = inception_net.predict(inp).flatten()\n",
        "  return {labels[i]: float(prediction[i]) for i in range(1000)}\n",
        "\n",
        "image = gr.inputs.Image(shape=(299, 299))\n",
        "label = gr.outputs.Label(num_top_classes=3)\n",
        "\n",
        "gr.Interface(fn=classify_image, inputs=image, outputs=label, capture_session=True).launch()"
      ]
    },
    {
      "cell_type": "markdown",
      "metadata": {
        "id": "XWtckVPG1XHz"
      },
      "source": [
        "### **ResNET18**"
      ]
    },
    {
      "cell_type": "code",
      "execution_count": 2,
      "metadata": {
        "colab": {
          "base_uri": "https://localhost:8080/",
          "height": 655
        },
        "id": "Gg5QjROLxmVp",
        "outputId": "78d8ff6e-617c-4d38-9157-85ec5506b6d8"
      },
      "outputs": [
        {
          "name": "stderr",
          "output_type": "stream",
          "text": [
            "Downloading: \"https://github.com/pytorch/vision/zipball/v0.6.0\" to /home/faisal/.cache/torch/hub/v0.6.0.zip\n",
            "/home/faisal/.local/lib/python3.10/site-packages/torchvision/models/_utils.py:208: UserWarning: The parameter 'pretrained' is deprecated since 0.13 and may be removed in the future, please use 'weights' instead.\n",
            "  warnings.warn(\n",
            "/home/faisal/.local/lib/python3.10/site-packages/torchvision/models/_utils.py:223: UserWarning: Arguments other than a weight enum or `None` for 'weights' are deprecated since 0.13 and may be removed in the future. The current behavior is equivalent to passing `weights=ResNet18_Weights.IMAGENET1K_V1`. You can also use `weights=ResNet18_Weights.DEFAULT` to get the most up-to-date weights.\n",
            "  warnings.warn(msg)\n",
            "Downloading: \"https://download.pytorch.org/models/resnet18-f37072fd.pth\" to /home/faisal/.cache/torch/hub/checkpoints/resnet18-f37072fd.pth\n",
            "100%|██████████| 44.7M/44.7M [00:04<00:00, 11.1MB/s]\n",
            "/tmp/ipykernel_527022/1978970160.py:20: GradioDeprecationWarning: Usage of gradio.inputs is deprecated, and will not be supported in the future, please import your component from gradio.components\n",
            "  inputs = gr.inputs.Image()\n",
            "/tmp/ipykernel_527022/1978970160.py:20: GradioDeprecationWarning: `optional` parameter is deprecated, and it has no effect\n",
            "  inputs = gr.inputs.Image()\n",
            "/tmp/ipykernel_527022/1978970160.py:21: GradioDeprecationWarning: Usage of gradio.outputs is deprecated, and will not be supported in the future, please import your components from gradio.components\n",
            "  outputs = gr.outputs.Label(num_top_classes=3)\n",
            "/tmp/ipykernel_527022/1978970160.py:21: GradioUnusedKwargWarning: You have unused kwarg parameters in Label, please remove them: {'type': 'auto'}\n",
            "  outputs = gr.outputs.Label(num_top_classes=3)\n"
          ]
        },
        {
          "name": "stdout",
          "output_type": "stream",
          "text": [
            "Running on local URL:  http://127.0.0.1:7861\n",
            "IMPORTANT: You are using gradio version 3.50.0, however version 4.29.0 is available, please upgrade.\n",
            "--------\n",
            "\n",
            "To create a public link, set `share=True` in `launch()`.\n"
          ]
        },
        {
          "data": {
            "text/html": [
              "<div><iframe src=\"http://127.0.0.1:7861/\" width=\"100%\" height=\"500\" allow=\"autoplay; camera; microphone; clipboard-read; clipboard-write;\" frameborder=\"0\" allowfullscreen></iframe></div>"
            ],
            "text/plain": [
              "<IPython.core.display.HTML object>"
            ]
          },
          "metadata": {},
          "output_type": "display_data"
        },
        {
          "data": {
            "text/plain": []
          },
          "execution_count": 2,
          "metadata": {},
          "output_type": "execute_result"
        }
      ],
      "source": [
        "import gradio as gr\n",
        "import torch\n",
        "from torchvision import transforms\n",
        "import requests\n",
        "from PIL import Image\n",
        "\n",
        "model = torch.hub.load('pytorch/vision:v0.6.0', 'resnet18', pretrained=True).eval()\n",
        "\n",
        "# Download human-readable labels for ImageNet.\n",
        "response = requests.get(\"https://git.io/JJkYN\")\n",
        "labels = response.text.split(\"\\n\")\n",
        "\n",
        "def predict(inp):\n",
        "  inp = Image.fromarray(inp.astype('uint8'), 'RGB')\n",
        "  inp = transforms.ToTensor()(inp).unsqueeze(0)\n",
        "  with torch.no_grad():\n",
        "    prediction = torch.nn.functional.softmax(model(inp)[0], dim=0)\n",
        "  return {labels[i]: float(prediction[i]) for i in range(1000)}\n",
        "\n",
        "inputs = gr.inputs.Image()\n",
        "outputs = gr.outputs.Label(num_top_classes=3)\n",
        "gr.Interface(fn=predict, inputs=inputs, outputs=outputs).launch()"
      ]
    },
    {
      "cell_type": "code",
      "execution_count": null,
      "metadata": {},
      "outputs": [],
      "source": []
    }
  ],
  "metadata": {
    "colab": {
      "authorship_tag": "ABX9TyN9wBtWwrm5aYcwiYZsPz46",
      "include_colab_link": true,
      "name": "Image_Classification_Gradio",
      "provenance": []
    },
    "kernelspec": {
      "display_name": "Python 3",
      "name": "python3"
    },
    "language_info": {
      "codemirror_mode": {
        "name": "ipython",
        "version": 3
      },
      "file_extension": ".py",
      "mimetype": "text/x-python",
      "name": "python",
      "nbconvert_exporter": "python",
      "pygments_lexer": "ipython3",
      "version": "3.10.13"
    }
  },
  "nbformat": 4,
  "nbformat_minor": 0
}
